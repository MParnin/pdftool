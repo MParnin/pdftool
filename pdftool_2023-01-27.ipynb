{
 "cells": [
  {
   "cell_type": "markdown",
   "id": "c71b428a-85e2-4eb2-8e3d-375f8c581320",
   "metadata": {
    "tags": []
   },
   "source": [
    "# Split PDFs"
   ]
  },
  {
   "cell_type": "markdown",
   "id": "92cf10cf-49a1-4f5e-b582-903e921dde74",
   "metadata": {
    "tags": []
   },
   "source": [
    "## Code"
   ]
  },
  {
   "cell_type": "code",
   "execution_count": 14,
   "id": "fee586d5-f93e-4f02-aacd-8ecdf999763d",
   "metadata": {},
   "outputs": [],
   "source": [
    "# Function to split PDF into multiple PDF pages\n",
    "from PyPDF2 import PdfReader, PdfWriter\n",
    "import os\n",
    "def split_pdf(pdf_path):\n",
    "    with open(pdf_path,\"rb\") as f:\n",
    "        reader = PdfReader(f)\n",
    "        for page_num in range(0, len(reader.pages)):\n",
    "            selected_page = reader.pages[page_num]\n",
    "            writer = PdfWriter()\n",
    "            writer.add_page(selected_page)\n",
    "            filename = os.path.splitext(pdf_path)[0]\n",
    "            output_filename = f\"{filename}_{page_num + 1}.pdf\"\n",
    "            with open(output_filename, \"wb\") as out:\n",
    "                writer.write(out)\n",
    "            \n",
    "            print(\"Created:{}\".format(output_filename))"
   ]
  },
  {
   "cell_type": "markdown",
   "id": "943bff6d-901a-42a9-831a-84de821ebbf5",
   "metadata": {
    "tags": []
   },
   "source": [
    "## Action"
   ]
  },
  {
   "cell_type": "code",
   "execution_count": 15,
   "id": "089c1cff-4dba-45f7-9cd9-1819a7c30ee8",
   "metadata": {},
   "outputs": [],
   "source": [
    "split_pdf(\"test.pdf\")"
   ]
  },
  {
   "cell_type": "markdown",
   "id": "1f923475-d497-4abf-8060-1dba8a6792ab",
   "metadata": {
    "tags": []
   },
   "source": [
    "# Extract Range of Pages"
   ]
  },
  {
   "cell_type": "markdown",
   "id": "807d8e30-9745-4f55-b0b1-c26021feecd2",
   "metadata": {},
   "source": [
    "## Code"
   ]
  },
  {
   "cell_type": "code",
   "execution_count": 20,
   "id": "b985b377-c074-4fdc-90da-ff1d698a0d75",
   "metadata": {},
   "outputs": [],
   "source": [
    "# Function to extract range pages from a pdf\n",
    "from PyPDF2 import PdfReader, PdfWriter\n",
    "import os\n",
    "def split_specific(pdf_path,start_page:int=0,end_page:int=0):\n",
    "    with open(pdf_path,\"rb\") as f:\n",
    "        reader = PdfReader(f)\n",
    "        writer = PdfWriter()\n",
    "        for page_num in range(start_page -1, end_page): \n",
    "            selected_page = reader.pages[page_num]\n",
    "            writer.add_page(selected_page)\n",
    "            filename = os.path.splitext(pdf_path)[0]\n",
    "            output_filename = f\"{filename}_{start_page}_to_{end_page}.pdf\"\n",
    "        with open(output_filename, \"wb\") as out:\n",
    "            writer.write(out)\n",
    "            \n",
    "            print(\"Created:{}\".format(output_filename))"
   ]
  },
  {
   "cell_type": "markdown",
   "id": "95502bbd-e81d-4842-a04b-0098601e2470",
   "metadata": {},
   "source": [
    "## Action"
   ]
  },
  {
   "cell_type": "code",
   "execution_count": 19,
   "id": "7a790dbd-c048-47c0-a988-6bf39625935c",
   "metadata": {},
   "outputs": [],
   "source": [
    "split_specific(\"test.pdf\",1,2)"
   ]
  },
  {
   "cell_type": "markdown",
   "id": "026a062d-3bdc-4c97-8e72-8bb3c009a204",
   "metadata": {
    "tags": []
   },
   "source": [
    "# Merge PDFs"
   ]
  },
  {
   "cell_type": "markdown",
   "id": "aa0d6374-02af-4c66-a6c7-d5392ad74444",
   "metadata": {},
   "source": [
    "## Code"
   ]
  },
  {
   "cell_type": "code",
   "execution_count": 21,
   "id": "cd22e1ce-34f8-4aca-922e-f5a10445b5b1",
   "metadata": {},
   "outputs": [],
   "source": [
    "# Find all PDFs in directory\n",
    "import os\n",
    "import fnmatch\n",
    "def fetch_all_pdfs(directory: str):\n",
    "    target_files = []\n",
    "    for filename in os.listdir(directory):\n",
    "        if fnmatch.fnmatch(filename, '*.pdf'):\n",
    "            target_files.append(os.path.join(directory, filename))\n",
    "    return target_files"
   ]
  },
  {
   "cell_type": "code",
   "execution_count": 24,
   "id": "01984503-0e65-4c74-a3b6-1a72c14096c4",
   "metadata": {},
   "outputs": [],
   "source": [
    "# Function to merge all PDFs in a directory\n",
    "from PyPDF2 import PdfMerger\n",
    "def merge_pdf(list_of_pdfs,output_filename=\"Merged_file.pdf\"):\n",
    "    merger = PdfMerger()\n",
    "    with open(output_filename, \"wb\") as f:\n",
    "        for file in list_of_pdfs:\n",
    "            merger.append(file)\n",
    "        merger.write(f)\n",
    "        \n",
    "        print(\"Created:{}\".format(output_filename))"
   ]
  },
  {
   "cell_type": "markdown",
   "id": "8aa4afc2-a4bb-45d2-8a4c-1ca6f71d1f40",
   "metadata": {},
   "source": [
    "## Action"
   ]
  },
  {
   "cell_type": "code",
   "execution_count": 23,
   "id": "1f0c8f04-1913-4549-965b-5599e1e470c5",
   "metadata": {},
   "outputs": [],
   "source": [
    "pdf_list=fetch_all_pdfs(\"./test\")\n",
    "merge_pdf(pdf_list)"
   ]
  },
  {
   "cell_type": "markdown",
   "id": "d6e5db81-d59c-4ba4-94a0-4f757d689140",
   "metadata": {
    "tags": []
   },
   "source": [
    "# Rotate PDFs"
   ]
  },
  {
   "cell_type": "code",
   "execution_count": 27,
   "id": "37e18e4a-a3cf-40b7-a0f0-81fa4c72b2e1",
   "metadata": {},
   "outputs": [],
   "source": [
    "# Rotates page clockwise 90 degrees by default\n",
    "from PyPDF2 import PdfReader\n",
    "from PyPDF2 import PdfWriter\n",
    "def rotate_pdf(pdf_path,page_num:int,rotation: int = 90):\n",
    "    with open(pdf_path, \"rb\") as f:\n",
    "        reader = PdfReader(f)\n",
    "        writer = PdfWriter()\n",
    "        writer.add_page(reader.pages[page_num])\n",
    "        writer.pages[page_num].rotate(rotation)\n",
    "        filename = os.path.splitext(pdf_path)[0]\n",
    "        output_filename = f\"{filename}_{rotation}_rotated_page.pdf\"\n",
    "        with open(output_filename, \"wb\") as out:\n",
    "            writer.write(out)\n",
    "                \n",
    "        print(\"Created:{}\".format(output_filename))"
   ]
  },
  {
   "cell_type": "code",
   "execution_count": 26,
   "id": "b23d137c-2f96-4ebc-a877-143528e163a1",
   "metadata": {},
   "outputs": [],
   "source": [
    "rotate_pdf(\"test.pdf\",0)"
   ]
  },
  {
   "cell_type": "code",
   "execution_count": null,
   "id": "6dcee7d9-2e2e-4c05-9d10-08f32e91464b",
   "metadata": {},
   "outputs": [],
   "source": []
  }
 ],
 "metadata": {
  "kernelspec": {
   "display_name": "Python 3 (ipykernel)",
   "language": "python",
   "name": "python3"
  },
  "language_info": {
   "codemirror_mode": {
    "name": "ipython",
    "version": 3
   },
   "file_extension": ".py",
   "mimetype": "text/x-python",
   "name": "python",
   "nbconvert_exporter": "python",
   "pygments_lexer": "ipython3",
   "version": "3.8.10"
  }
 },
 "nbformat": 4,
 "nbformat_minor": 5
}
